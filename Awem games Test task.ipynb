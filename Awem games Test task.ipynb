{
 "cells": [
  {
   "cell_type": "markdown",
   "id": "e48a98e0",
   "metadata": {},
   "source": [
    "## Тестовое задание Awem games\n"
   ]
  },
  {
   "cell_type": "markdown",
   "id": "0e17f063",
   "metadata": {},
   "source": [
    "**Краткое описание игры**\n",
    "\n",
    "Cradle of Empires – это успешная казуальная free-2play игра для мобильных устройств, стоящая на стыке трех жанров: Match-3, City Builder, Adventure. Ниже насколько возможно кратко (полное описание могло бы занять несколько страниц) описаны некоторые точки игровой механики.\n",
    "Играя в уровни Match-3 игрок получает ресурсы (золото, еда, материалы), которые может потратить на строительство или улучшение новых зданий, которые, в свою очередь, открывают доступ к новым уровням, возможностям, бонусам.\n",
    "Кроме того, ресурсы могут быть потрачены на заказы сделок в тотемах, которые дают игроку бонусы определенных видов (Молоток, Миксер, Молния и т.д.).\n",
    "Кроме бонусов из тотемов, в игре присутствуют другие виды игровых сущностей, призванных облегчить игроку прогресс по игре (идолы, амулеты и т.д.).\n",
    "Движение игрока по игре направляется квестовой системой, в основе которой лежит сбор различных предметов, которые также получаются за успешное прохождение уровней. Предметы используются при сборе коллекций.\n",
    "В игре присутствует премиальная валюта – кристаллы, которые могут быть потрачены на ускорение большинства игровых действий, покупку игровых\n",
    "сущностей и т.д."
   ]
  },
  {
   "cell_type": "markdown",
   "id": "a104fb75",
   "metadata": {},
   "source": [
    "**Цель задания:** составить аналитическую записку, которая бы отвечала на следующие вопросы:\n",
    "- Какое влияние произведенное изменение оказало на игру в целом? Было ли оно положительным или отрицательным? Обоснуйте свой ответ.\n",
    "- На какие игровые показатели изменение скорости производства бонусов в тотемах оказало наибольшее влияние и почему? Сформулируйте и обоснуйте гипотезы, которые бы освещали возможные причины такого влияния. Рассматривать все взаимосвязи необязательно – только те, которые вы посчитаете наиболее значимыми.\n",
    "- Есть ли на рассматриваемом игровом промежутке проблемы, требующие решения разработчиков? Что на Ваш взгляд можно было бы и изменить и как?\n",
    "- Какие еще данные помогли бы Вам лучше разобраться в игре, ее проблемах, просто стоят внимания с Вашей точки зрения? Почему?"
   ]
  },
  {
   "cell_type": "markdown",
   "id": "84597d96",
   "metadata": {},
   "source": [
    "**Входные данные:** данные по набору показателей из двух версий игры. Данные собраны за сопоставимые по продолжительности периоды и по сопоставимым по размеру группам игроков.\n",
    "Версия 1.0 отличается от версии 2.0 лишь одним параметром – **скоростью производства бонусов** в тотемах (тотемы представляют собой источник бесплатных бонусов для игрока. Бонусы производятся в тотеме за счёт ресурсов, в текущей версии Cradle of Empires, которую можно скачать со сторов, доступны c 11 уровня славы, раньше, в анализируемых версиях v1 и v2, были доступны с 4 уровня). Остальные параметры игры изменены не были."
   ]
  },
  {
   "cell_type": "markdown",
   "id": "a137f0b8",
   "metadata": {},
   "source": [
    "**Описание данных:**\n",
    "- Version – версия игры\n",
    "- Id – внутри-игровой уникальный идентификатор пользователя\n",
    "- Level – уровень славы (аналог уровней опыта в других играх)\n",
    "- M3 start – количество стартов macth-3 уровней\n",
    "- M3 finish – количество успешных завершений match-3 уровней\n",
    "- Crystal free – количество кристаллов, полученное из бесплатных\n",
    "источников (просмотр рекламы, ежедневные награды)\n",
    "- Get gold – сумма полученного за уровень золота\n",
    "- Get food – сумма полученной за уровень еды\n",
    "- Get stuff – сумма полученных за уровень материалов\n",
    "- Buy gold – сумма купленного за премиум-валюту золота\n",
    "- Buy food – сумма купленной за премиум-валюту еды\n",
    "- Buy stuff – сумма купленных за премиум-валюту материалов\n",
    "- Get bonus – количество полученных из тотемов бонусов\n",
    "- Buy bonus – количество купленных за премиум-валюту бонусов\n",
    "- Quest complete – количество выполненных квестов\n",
    "- Buy energy – количество купленных за премиум-валюту энергетиков\n",
    "- Buy charge – количество купленных за премиум-валюту зарядок\n",
    "- Buy amulet – количество купленных за премиум-валюту амулетов (свитков с заклинаниями)\n",
    "- Collection complete – количество заряженных коллекций (для зарядки которых необходимы такие предметы как «зарядки»)    "
   ]
  },
  {
   "cell_type": "code",
   "execution_count": 122,
   "id": "d0d113b6",
   "metadata": {},
   "outputs": [],
   "source": [
    "import pandas as pd\n",
    "import numpy as np\n",
    "import seaborn as sns\n",
    "from scipy import stats as st\n",
    "import re\n",
    "import matplotlib.pyplot as plt"
   ]
  },
  {
   "cell_type": "markdown",
   "id": "33cb5f19",
   "metadata": {},
   "source": [
    "### Изучение данных"
   ]
  },
  {
   "cell_type": "code",
   "execution_count": 123,
   "id": "47b35a94",
   "metadata": {},
   "outputs": [],
   "source": [
    "#Загрузим данные\n",
    "data = pd.read_csv(\"ТЗ Game Analyst (Data Scientist).csv\")"
   ]
  },
  {
   "cell_type": "code",
   "execution_count": 124,
   "id": "3d6fe69b",
   "metadata": {},
   "outputs": [
    {
     "name": "stdout",
     "output_type": "stream",
     "text": [
      "<class 'pandas.core.frame.DataFrame'>\n",
      "RangeIndex: 4360 entries, 0 to 4359\n",
      "Data columns (total 19 columns):\n",
      " #   Column               Non-Null Count  Dtype \n",
      "---  ------               --------------  ----- \n",
      " 0   Version              4360 non-null   object\n",
      " 1   id                   4360 non-null   int64 \n",
      " 2   Level                4360 non-null   int64 \n",
      " 3   M3 start             4360 non-null   int64 \n",
      " 4   M3 finish            4360 non-null   int64 \n",
      " 5   Crystall free        4360 non-null   int64 \n",
      " 6   Get gold             4360 non-null   int64 \n",
      " 7   Get food             4360 non-null   int64 \n",
      " 8   Get stuff            4360 non-null   int64 \n",
      " 9   Buy gold             4360 non-null   int64 \n",
      " 10  Buy food             4360 non-null   int64 \n",
      " 11  Buy stuff            4360 non-null   int64 \n",
      " 12  Get bonus            4360 non-null   int64 \n",
      " 13  Buy bonus            4360 non-null   int64 \n",
      " 14  Quest complete       4360 non-null   int64 \n",
      " 15  Buy energy           4360 non-null   int64 \n",
      " 16  Buy charge           4360 non-null   int64 \n",
      " 17  Buy amulet           4360 non-null   int64 \n",
      " 18  Collection complete  4360 non-null   int64 \n",
      "dtypes: int64(18), object(1)\n",
      "memory usage: 647.3+ KB\n"
     ]
    }
   ],
   "source": [
    "#Информация о данных\n",
    "data.info()"
   ]
  },
  {
   "cell_type": "code",
   "execution_count": 125,
   "id": "2787b314",
   "metadata": {},
   "outputs": [
    {
     "data": {
      "text/html": [
       "<div>\n",
       "<style scoped>\n",
       "    .dataframe tbody tr th:only-of-type {\n",
       "        vertical-align: middle;\n",
       "    }\n",
       "\n",
       "    .dataframe tbody tr th {\n",
       "        vertical-align: top;\n",
       "    }\n",
       "\n",
       "    .dataframe thead th {\n",
       "        text-align: right;\n",
       "    }\n",
       "</style>\n",
       "<table border=\"1\" class=\"dataframe\">\n",
       "  <thead>\n",
       "    <tr style=\"text-align: right;\">\n",
       "      <th></th>\n",
       "      <th>Version</th>\n",
       "      <th>id</th>\n",
       "      <th>Level</th>\n",
       "      <th>M3 start</th>\n",
       "      <th>M3 finish</th>\n",
       "      <th>Crystall free</th>\n",
       "      <th>Get gold</th>\n",
       "      <th>Get food</th>\n",
       "      <th>Get stuff</th>\n",
       "      <th>Buy gold</th>\n",
       "      <th>Buy food</th>\n",
       "      <th>Buy stuff</th>\n",
       "      <th>Get bonus</th>\n",
       "      <th>Buy bonus</th>\n",
       "      <th>Quest complete</th>\n",
       "      <th>Buy energy</th>\n",
       "      <th>Buy charge</th>\n",
       "      <th>Buy amulet</th>\n",
       "      <th>Collection complete</th>\n",
       "    </tr>\n",
       "  </thead>\n",
       "  <tbody>\n",
       "    <tr>\n",
       "      <th>0</th>\n",
       "      <td>v2</td>\n",
       "      <td>958203</td>\n",
       "      <td>1</td>\n",
       "      <td>5</td>\n",
       "      <td>5</td>\n",
       "      <td>5</td>\n",
       "      <td>1069</td>\n",
       "      <td>0</td>\n",
       "      <td>0</td>\n",
       "      <td>0</td>\n",
       "      <td>0</td>\n",
       "      <td>0</td>\n",
       "      <td>0</td>\n",
       "      <td>0</td>\n",
       "      <td>2</td>\n",
       "      <td>0</td>\n",
       "      <td>0</td>\n",
       "      <td>0</td>\n",
       "      <td>0</td>\n",
       "    </tr>\n",
       "    <tr>\n",
       "      <th>1</th>\n",
       "      <td>v1</td>\n",
       "      <td>519908</td>\n",
       "      <td>10</td>\n",
       "      <td>184</td>\n",
       "      <td>156</td>\n",
       "      <td>19</td>\n",
       "      <td>57252</td>\n",
       "      <td>28704</td>\n",
       "      <td>25584</td>\n",
       "      <td>1145</td>\n",
       "      <td>861</td>\n",
       "      <td>512</td>\n",
       "      <td>76</td>\n",
       "      <td>9</td>\n",
       "      <td>16</td>\n",
       "      <td>4</td>\n",
       "      <td>12</td>\n",
       "      <td>6</td>\n",
       "      <td>4</td>\n",
       "    </tr>\n",
       "    <tr>\n",
       "      <th>2</th>\n",
       "      <td>v2</td>\n",
       "      <td>888712</td>\n",
       "      <td>7</td>\n",
       "      <td>93</td>\n",
       "      <td>78</td>\n",
       "      <td>17</td>\n",
       "      <td>30186</td>\n",
       "      <td>8112</td>\n",
       "      <td>5928</td>\n",
       "      <td>1207</td>\n",
       "      <td>406</td>\n",
       "      <td>59</td>\n",
       "      <td>10</td>\n",
       "      <td>27</td>\n",
       "      <td>13</td>\n",
       "      <td>6</td>\n",
       "      <td>4</td>\n",
       "      <td>5</td>\n",
       "      <td>3</td>\n",
       "    </tr>\n",
       "    <tr>\n",
       "      <th>3</th>\n",
       "      <td>v1</td>\n",
       "      <td>571031</td>\n",
       "      <td>4</td>\n",
       "      <td>38</td>\n",
       "      <td>32</td>\n",
       "      <td>11</td>\n",
       "      <td>6784</td>\n",
       "      <td>1184</td>\n",
       "      <td>1768</td>\n",
       "      <td>271</td>\n",
       "      <td>83</td>\n",
       "      <td>0</td>\n",
       "      <td>16</td>\n",
       "      <td>6</td>\n",
       "      <td>10</td>\n",
       "      <td>0</td>\n",
       "      <td>3</td>\n",
       "      <td>0</td>\n",
       "      <td>2</td>\n",
       "    </tr>\n",
       "    <tr>\n",
       "      <th>4</th>\n",
       "      <td>v2</td>\n",
       "      <td>911796</td>\n",
       "      <td>3</td>\n",
       "      <td>27</td>\n",
       "      <td>26</td>\n",
       "      <td>9</td>\n",
       "      <td>4966</td>\n",
       "      <td>780</td>\n",
       "      <td>0</td>\n",
       "      <td>248</td>\n",
       "      <td>47</td>\n",
       "      <td>0</td>\n",
       "      <td>0</td>\n",
       "      <td>5</td>\n",
       "      <td>4</td>\n",
       "      <td>1</td>\n",
       "      <td>0</td>\n",
       "      <td>0</td>\n",
       "      <td>0</td>\n",
       "    </tr>\n",
       "  </tbody>\n",
       "</table>\n",
       "</div>"
      ],
      "text/plain": [
       "  Version      id  Level  M3 start  M3 finish  Crystall free  Get gold  \\\n",
       "0      v2  958203      1         5          5              5      1069   \n",
       "1      v1  519908     10       184        156             19     57252   \n",
       "2      v2  888712      7        93         78             17     30186   \n",
       "3      v1  571031      4        38         32             11      6784   \n",
       "4      v2  911796      3        27         26              9      4966   \n",
       "\n",
       "   Get food  Get stuff  Buy gold  Buy food  Buy stuff  Get bonus  Buy bonus  \\\n",
       "0         0          0         0         0          0          0          0   \n",
       "1     28704      25584      1145       861        512         76          9   \n",
       "2      8112       5928      1207       406         59         10         27   \n",
       "3      1184       1768       271        83          0         16          6   \n",
       "4       780          0       248        47          0          0          5   \n",
       "\n",
       "   Quest complete  Buy energy  Buy charge  Buy amulet  Collection complete  \n",
       "0               2           0           0           0                    0  \n",
       "1              16           4          12           6                    4  \n",
       "2              13           6           4           5                    3  \n",
       "3              10           0           3           0                    2  \n",
       "4               4           1           0           0                    0  "
      ]
     },
     "execution_count": 125,
     "metadata": {},
     "output_type": "execute_result"
    }
   ],
   "source": [
    "#Первые 5 строк датасета\n",
    "data.head()"
   ]
  },
  {
   "cell_type": "markdown",
   "id": "b4ca5bba",
   "metadata": {},
   "source": [
    "<div class=\"alert alert-block alert-info\">\n",
    "Всего в исходных данных представлена информация о 4360 записях по наборам показателей, типы данных в исходном наборе - int, object."
   ]
  },
  {
   "cell_type": "markdown",
   "id": "33b9b5b2",
   "metadata": {},
   "source": [
    "### Предобработка данных"
   ]
  },
  {
   "cell_type": "code",
   "execution_count": 126,
   "id": "3cf50fa6",
   "metadata": {},
   "outputs": [],
   "source": [
    "#Приведём название полей к змеиному типу\n",
    "for name in data.columns:\n",
    "    pattern = r\"\\s\"\n",
    "    rena = re.sub(pattern, '_', name).lower()\n",
    "    data = data.rename(columns={name:rena})"
   ]
  },
  {
   "cell_type": "markdown",
   "id": "ea91c7ee",
   "metadata": {},
   "source": [
    "#### Обработка пропусков"
   ]
  },
  {
   "cell_type": "code",
   "execution_count": 127,
   "id": "2fa7fc61",
   "metadata": {},
   "outputs": [
    {
     "data": {
      "text/plain": [
       "version                0\n",
       "id                     0\n",
       "level                  0\n",
       "m3_start               0\n",
       "m3_finish              0\n",
       "crystall_free          0\n",
       "get_gold               0\n",
       "get_food               0\n",
       "get_stuff              0\n",
       "buy_gold               0\n",
       "buy_food               0\n",
       "buy_stuff              0\n",
       "get_bonus              0\n",
       "buy_bonus              0\n",
       "quest_complete         0\n",
       "buy_energy             0\n",
       "buy_charge             0\n",
       "buy_amulet             0\n",
       "collection_complete    0\n",
       "dtype: int64"
      ]
     },
     "execution_count": 127,
     "metadata": {},
     "output_type": "execute_result"
    }
   ],
   "source": [
    "data.isna().sum()"
   ]
  },
  {
   "cell_type": "markdown",
   "id": "4528030b",
   "metadata": {},
   "source": [
    "<div class=\"alert alert-block alert-info\">\n",
    "Пропуски обнаружены не были"
   ]
  },
  {
   "cell_type": "markdown",
   "id": "1b9bafdb",
   "metadata": {},
   "source": [
    "#### Проверка на дубликаты"
   ]
  },
  {
   "cell_type": "code",
   "execution_count": 128,
   "id": "5924d6ca",
   "metadata": {},
   "outputs": [
    {
     "data": {
      "text/plain": [
       "0"
      ]
     },
     "execution_count": 128,
     "metadata": {},
     "output_type": "execute_result"
    }
   ],
   "source": [
    "data.duplicated().sum()"
   ]
  },
  {
   "cell_type": "markdown",
   "id": "b8611583",
   "metadata": {},
   "source": [
    "<div class=\"alert alert-block alert-info\">\n",
    "Явные записи-дубликаты обнаружены не были"
   ]
  },
  {
   "cell_type": "markdown",
   "id": "d5e9dd7c",
   "metadata": {},
   "source": [
    "### Исследование аномалий"
   ]
  },
  {
   "cell_type": "code",
   "execution_count": 129,
   "id": "f16f958e",
   "metadata": {
    "scrolled": true
   },
   "outputs": [
    {
     "data": {
      "image/png": "[encoded data removed]",
      "text/plain": [
       "<Figure size 432x288 with 1 Axes>"
      ]
     },
     "metadata": {
      "needs_background": "light"
     },
     "output_type": "display_data"
    },
    {
     "data": {
      "image/png": "[encoded data removed]",
      "text/plain": [
       "<Figure size 432x288 with 1 Axes>"
      ]
     },
     "metadata": {
      "needs_background": "light"
     },
     "output_type": "display_data"
    },
    {
     "data": {
      "image/png": "[encoded data removed]",
      "text/plain": [
       "<Figure size 432x288 with 1 Axes>"
      ]
     },
     "metadata": {
      "needs_background": "light"
     },
     "output_type": "display_data"
    },
    {
     "data": {
      "image/png": "[encoded data removed]",
      "text/plain": [
       "<Figure size 432x288 with 1 Axes>"
      ]
     },
     "metadata": {
      "needs_background": "light"
     },
     "output_type": "display_data"
    },
    {
     "data": {
      "image/png": "[encoded data removed]",
      "text/plain": [
       "<Figure size 432x288 with 1 Axes>"
      ]
     },
     "metadata": {
      "needs_background": "light"
     },
     "output_type": "display_data"
    },
    {
     "data": {
      "image/png": "[encoded data removed]",
      "text/plain": [
       "<Figure size 432x288 with 1 Axes>"
      ]
     },
     "metadata": {
      "needs_background": "light"
     },
     "output_type": "display_data"
    },
    {
     "data": {
      "image/png": "[encoded data removed]",
      "text/plain": [
       "<Figure size 432x288 with 1 Axes>"
      ]
     },
     "metadata": {
      "needs_background": "light"
     },
     "output_type": "display_data"
    },
    {
     "data": {
      "image/png": "[encoded data removed]",
      "text/plain": [
       "<Figure size 432x288 with 1 Axes>"
      ]
     },
     "metadata": {
      "needs_background": "light"
     },
     "output_type": "display_data"
    },
    {
     "data": {
      "image/png": "[encoded data removed]",
      "text/plain": [
       "<Figure size 432x288 with 1 Axes>"
      ]
     },
     "metadata": {
      "needs_background": "light"
     },
     "output_type": "display_data"
    },
    {
     "data": {
      "image/png": "[encoded data removed]",
      "text/plain": [
       "<Figure size 432x288 with 1 Axes>"
      ]
     },
     "metadata": {
      "needs_background": "light"
     },
     "output_type": "display_data"
    },
    {
     "data": {
      "image/png": "[encoded data removed]",
      "text/plain": [
       "<Figure size 432x288 with 1 Axes>"
      ]
     },
     "metadata": {
      "needs_background": "light"
     },
     "output_type": "display_data"
    },
    {
     "data": {
      "image/png": "[encoded data removed]",
      "text/plain": [
       "<Figure size 432x288 with 1 Axes>"
      ]
     },
     "metadata": {
      "needs_background": "light"
     },
     "output_type": "display_data"
    },
    {
     "data": {
      "image/png": "[encoded data removed]",
      "text/plain": [
       "<Figure size 432x288 with 1 Axes>"
      ]
     },
     "metadata": {
      "needs_background": "light"
     },
     "output_type": "display_data"
    },
    {
     "data": {
      "image/png": "[encoded data removed]",
      "text/plain": [
       "<Figure size 432x288 with 1 Axes>"
      ]
     },
     "metadata": {
      "needs_background": "light"
     },
     "output_type": "display_data"
    },
    {
     "data": {
      "image/png": "[encoded data removed]",
      "text/plain": [
       "<Figure size 432x288 with 1 Axes>"
      ]
     },
     "metadata": {
      "needs_background": "light"
     },
     "output_type": "display_data"
    },
    {
     "data": {
      "image/png": "[encoded data removed]",
      "text/plain": [
       "<Figure size 432x288 with 1 Axes>"
      ]
     },
     "metadata": {
      "needs_background": "light"
     },
     "output_type": "display_data"
    },
    {
     "data": {
      "image/png": "[encoded data removed]",
      "text/plain": [
       "<Figure size 432x288 with 1 Axes>"
      ]
     },
     "metadata": {
      "needs_background": "light"
     },
     "output_type": "display_data"
    }
   ],
   "source": [
    "for column in data.loc[:,'level':'collection_complete'].columns:\n",
    "    sns.boxplot(x=data[column])\n",
    "    plt.title(\"Ящик с усами для признака \" + column)\n",
    "    plt.show()"
   ]
  },
  {
   "cell_type": "markdown",
   "id": "1d961c28",
   "metadata": {},
   "source": [
    "<div class=\"alert alert-block alert-info\">\n",
    "Видно, что аномальные значения, выходящие за пределы усов диаграммы размаха присутствуют у полей: m3_finish, crystall_free, get_gold, get_food, get_stuff', 'buy_gold', 'buy_food',\n",
    "       buy_stuff, get_bonus, buy_bonus, quest_complete, buy_energy, buy_charge, collection_complete."
   ]
  },
  {
   "cell_type": "code",
   "execution_count": 130,
   "id": "d6bffa11",
   "metadata": {},
   "outputs": [],
   "source": [
    "anomaly_columns = ['m3_finish', 'crystall_free', 'get_gold', 'get_food', 'get_stuff', 'buy_gold', 'buy_food', 'buy_stuff', 'get_bonus', 'buy_bonus', 'quest_complete', 'buy_energy', 'buy_charge', 'collection_complete']"
   ]
  },
  {
   "cell_type": "code",
   "execution_count": 131,
   "id": "c9d97680",
   "metadata": {},
   "outputs": [
    {
     "name": "stdout",
     "output_type": "stream",
     "text": [
      "Верхний порог признака: m3_finish 154.5\n",
      "Количество аномальных значений признака m3_finish: 128\n",
      "Верхний порог признака: crystall_free 24.5\n",
      "Количество аномальных значений признака crystall_free: 96\n",
      "Верхний порог признака: get_gold 60646.875\n",
      "Количество аномальных значений признака get_gold: 134\n",
      "Верхний порог признака: get_food 15635.0\n",
      "Количество аномальных значений признака get_food: 462\n",
      "Верхний порог признака: get_stuff 13275.0\n",
      "Количество аномальных значений признака get_stuff: 514\n",
      "Верхний порог признака: buy_gold 1628.125\n",
      "Количество аномальных значений признака buy_gold: 218\n",
      "Верхний порог признака: buy_food 747.5\n",
      "Количество аномальных значений признака buy_food: 352\n",
      "Верхний порог признака: buy_stuff 312.5\n",
      "Количество аномальных значений признака buy_stuff: 371\n",
      "Верхний порог признака: get_bonus 55.0\n",
      "Количество аномальных значений признака get_bonus: 208\n",
      "Верхний порог признака: buy_bonus 57.0\n",
      "Количество аномальных значений признака buy_bonus: 44\n",
      "Верхний порог признака: quest_complete 24.5\n",
      "Количество аномальных значений признака quest_complete: 110\n",
      "Верхний порог признака: buy_energy 12.5\n",
      "Количество аномальных значений признака buy_energy: 21\n",
      "Верхний порог признака: buy_charge 12.5\n",
      "Количество аномальных значений признака buy_charge: 45\n",
      "Верхний порог признака: collection_complete 7.5\n",
      "Количество аномальных значений признака collection_complete: 74\n"
     ]
    }
   ],
   "source": [
    "#Посмотрим на количество объектов по каждому из перечисленных признаков, выходящих за пределы усов диаграммы размаха.\n",
    "for column in anomaly_columns:\n",
    "    data1 = sorted(data[column])\n",
    "    q1 = np.percentile(data1, 25)\n",
    "    q3 = np.percentile(data1, 75)\n",
    "    IQR = q3-q1\n",
    "    upper = q3 + (1.5*IQR)\n",
    "    print(\"Верхний порог признака: \" + column, upper)\n",
    "    print(\"Количество аномальных значений признака \" + column + \":\", len(data.loc[data[column] > upper]))"
   ]
  },
  {
   "cell_type": "code",
   "execution_count": 132,
   "id": "864e54d1",
   "metadata": {},
   "outputs": [
    {
     "data": {
      "text/html": [
       "<div>\n",
       "<style scoped>\n",
       "    .dataframe tbody tr th:only-of-type {\n",
       "        vertical-align: middle;\n",
       "    }\n",
       "\n",
       "    .dataframe tbody tr th {\n",
       "        vertical-align: top;\n",
       "    }\n",
       "\n",
       "    .dataframe thead th {\n",
       "        text-align: right;\n",
       "    }\n",
       "</style>\n",
       "<table border=\"1\" class=\"dataframe\">\n",
       "  <thead>\n",
       "    <tr style=\"text-align: right;\">\n",
       "      <th></th>\n",
       "      <th>version</th>\n",
       "      <th>id</th>\n",
       "      <th>level</th>\n",
       "      <th>m3_start</th>\n",
       "      <th>m3_finish</th>\n",
       "      <th>crystall_free</th>\n",
       "      <th>get_gold</th>\n",
       "      <th>get_food</th>\n",
       "      <th>get_stuff</th>\n",
       "      <th>buy_gold</th>\n",
       "      <th>buy_food</th>\n",
       "      <th>buy_stuff</th>\n",
       "      <th>get_bonus</th>\n",
       "      <th>buy_bonus</th>\n",
       "      <th>quest_complete</th>\n",
       "      <th>buy_energy</th>\n",
       "      <th>buy_charge</th>\n",
       "      <th>buy_amulet</th>\n",
       "      <th>collection_complete</th>\n",
       "    </tr>\n",
       "  </thead>\n",
       "  <tbody>\n",
       "    <tr>\n",
       "      <th>1</th>\n",
       "      <td>v1</td>\n",
       "      <td>519908</td>\n",
       "      <td>10</td>\n",
       "      <td>184</td>\n",
       "      <td>156</td>\n",
       "      <td>19</td>\n",
       "      <td>57252</td>\n",
       "      <td>28704</td>\n",
       "      <td>25584</td>\n",
       "      <td>1145</td>\n",
       "      <td>861</td>\n",
       "      <td>512</td>\n",
       "      <td>76</td>\n",
       "      <td>9</td>\n",
       "      <td>16</td>\n",
       "      <td>4</td>\n",
       "      <td>12</td>\n",
       "      <td>6</td>\n",
       "      <td>4</td>\n",
       "    </tr>\n",
       "    <tr>\n",
       "      <th>6</th>\n",
       "      <td>v1</td>\n",
       "      <td>695773</td>\n",
       "      <td>10</td>\n",
       "      <td>197</td>\n",
       "      <td>169</td>\n",
       "      <td>24</td>\n",
       "      <td>65572</td>\n",
       "      <td>27040</td>\n",
       "      <td>25857</td>\n",
       "      <td>1311</td>\n",
       "      <td>1352</td>\n",
       "      <td>517</td>\n",
       "      <td>83</td>\n",
       "      <td>14</td>\n",
       "      <td>22</td>\n",
       "      <td>12</td>\n",
       "      <td>8</td>\n",
       "      <td>4</td>\n",
       "      <td>4</td>\n",
       "    </tr>\n",
       "    <tr>\n",
       "      <th>54</th>\n",
       "      <td>v2</td>\n",
       "      <td>943882</td>\n",
       "      <td>10</td>\n",
       "      <td>207</td>\n",
       "      <td>155</td>\n",
       "      <td>23</td>\n",
       "      <td>62465</td>\n",
       "      <td>31620</td>\n",
       "      <td>27280</td>\n",
       "      <td>312</td>\n",
       "      <td>632</td>\n",
       "      <td>164</td>\n",
       "      <td>25</td>\n",
       "      <td>48</td>\n",
       "      <td>28</td>\n",
       "      <td>11</td>\n",
       "      <td>11</td>\n",
       "      <td>4</td>\n",
       "      <td>7</td>\n",
       "    </tr>\n",
       "    <tr>\n",
       "      <th>69</th>\n",
       "      <td>v2</td>\n",
       "      <td>885093</td>\n",
       "      <td>10</td>\n",
       "      <td>216</td>\n",
       "      <td>173</td>\n",
       "      <td>24</td>\n",
       "      <td>74909</td>\n",
       "      <td>34254</td>\n",
       "      <td>31659</td>\n",
       "      <td>449</td>\n",
       "      <td>685</td>\n",
       "      <td>222</td>\n",
       "      <td>29</td>\n",
       "      <td>52</td>\n",
       "      <td>24</td>\n",
       "      <td>11</td>\n",
       "      <td>13</td>\n",
       "      <td>6</td>\n",
       "      <td>8</td>\n",
       "    </tr>\n",
       "    <tr>\n",
       "      <th>81</th>\n",
       "      <td>v2</td>\n",
       "      <td>937831</td>\n",
       "      <td>10</td>\n",
       "      <td>220</td>\n",
       "      <td>174</td>\n",
       "      <td>17</td>\n",
       "      <td>69774</td>\n",
       "      <td>33582</td>\n",
       "      <td>31842</td>\n",
       "      <td>209</td>\n",
       "      <td>336</td>\n",
       "      <td>159</td>\n",
       "      <td>21</td>\n",
       "      <td>61</td>\n",
       "      <td>28</td>\n",
       "      <td>10</td>\n",
       "      <td>10</td>\n",
       "      <td>4</td>\n",
       "      <td>7</td>\n",
       "    </tr>\n",
       "    <tr>\n",
       "      <th>...</th>\n",
       "      <td>...</td>\n",
       "      <td>...</td>\n",
       "      <td>...</td>\n",
       "      <td>...</td>\n",
       "      <td>...</td>\n",
       "      <td>...</td>\n",
       "      <td>...</td>\n",
       "      <td>...</td>\n",
       "      <td>...</td>\n",
       "      <td>...</td>\n",
       "      <td>...</td>\n",
       "      <td>...</td>\n",
       "      <td>...</td>\n",
       "      <td>...</td>\n",
       "      <td>...</td>\n",
       "      <td>...</td>\n",
       "      <td>...</td>\n",
       "      <td>...</td>\n",
       "      <td>...</td>\n",
       "    </tr>\n",
       "    <tr>\n",
       "      <th>4207</th>\n",
       "      <td>v1</td>\n",
       "      <td>506319</td>\n",
       "      <td>10</td>\n",
       "      <td>193</td>\n",
       "      <td>166</td>\n",
       "      <td>22</td>\n",
       "      <td>62416</td>\n",
       "      <td>31374</td>\n",
       "      <td>27888</td>\n",
       "      <td>1248</td>\n",
       "      <td>1569</td>\n",
       "      <td>558</td>\n",
       "      <td>68</td>\n",
       "      <td>13</td>\n",
       "      <td>25</td>\n",
       "      <td>6</td>\n",
       "      <td>11</td>\n",
       "      <td>7</td>\n",
       "      <td>5</td>\n",
       "    </tr>\n",
       "    <tr>\n",
       "      <th>4232</th>\n",
       "      <td>v2</td>\n",
       "      <td>962517</td>\n",
       "      <td>10</td>\n",
       "      <td>209</td>\n",
       "      <td>165</td>\n",
       "      <td>18</td>\n",
       "      <td>73260</td>\n",
       "      <td>32505</td>\n",
       "      <td>29040</td>\n",
       "      <td>293</td>\n",
       "      <td>650</td>\n",
       "      <td>261</td>\n",
       "      <td>30</td>\n",
       "      <td>48</td>\n",
       "      <td>23</td>\n",
       "      <td>11</td>\n",
       "      <td>14</td>\n",
       "      <td>2</td>\n",
       "      <td>8</td>\n",
       "    </tr>\n",
       "    <tr>\n",
       "      <th>4237</th>\n",
       "      <td>v1</td>\n",
       "      <td>669751</td>\n",
       "      <td>10</td>\n",
       "      <td>193</td>\n",
       "      <td>168</td>\n",
       "      <td>19</td>\n",
       "      <td>60984</td>\n",
       "      <td>31752</td>\n",
       "      <td>30240</td>\n",
       "      <td>1830</td>\n",
       "      <td>1270</td>\n",
       "      <td>605</td>\n",
       "      <td>76</td>\n",
       "      <td>15</td>\n",
       "      <td>18</td>\n",
       "      <td>4</td>\n",
       "      <td>12</td>\n",
       "      <td>8</td>\n",
       "      <td>5</td>\n",
       "    </tr>\n",
       "    <tr>\n",
       "      <th>4282</th>\n",
       "      <td>v1</td>\n",
       "      <td>596238</td>\n",
       "      <td>10</td>\n",
       "      <td>194</td>\n",
       "      <td>167</td>\n",
       "      <td>18</td>\n",
       "      <td>63293</td>\n",
       "      <td>33066</td>\n",
       "      <td>26553</td>\n",
       "      <td>1899</td>\n",
       "      <td>992</td>\n",
       "      <td>797</td>\n",
       "      <td>70</td>\n",
       "      <td>13</td>\n",
       "      <td>18</td>\n",
       "      <td>7</td>\n",
       "      <td>9</td>\n",
       "      <td>8</td>\n",
       "      <td>4</td>\n",
       "    </tr>\n",
       "    <tr>\n",
       "      <th>4351</th>\n",
       "      <td>v1</td>\n",
       "      <td>589353</td>\n",
       "      <td>10</td>\n",
       "      <td>181</td>\n",
       "      <td>161</td>\n",
       "      <td>25</td>\n",
       "      <td>62629</td>\n",
       "      <td>31234</td>\n",
       "      <td>26082</td>\n",
       "      <td>1879</td>\n",
       "      <td>937</td>\n",
       "      <td>522</td>\n",
       "      <td>66</td>\n",
       "      <td>10</td>\n",
       "      <td>26</td>\n",
       "      <td>5</td>\n",
       "      <td>12</td>\n",
       "      <td>7</td>\n",
       "      <td>5</td>\n",
       "    </tr>\n",
       "  </tbody>\n",
       "</table>\n",
       "<p>128 rows × 19 columns</p>\n",
       "</div>"
      ],
      "text/plain": [
       "     version      id  level  m3_start  m3_finish  crystall_free  get_gold  \\\n",
       "1         v1  519908     10       184        156             19     57252   \n",
       "6         v1  695773     10       197        169             24     65572   \n",
       "54        v2  943882     10       207        155             23     62465   \n",
       "69        v2  885093     10       216        173             24     74909   \n",
       "81        v2  937831     10       220        174             17     69774   \n",
       "...      ...     ...    ...       ...        ...            ...       ...   \n",
       "4207      v1  506319     10       193        166             22     62416   \n",
       "4232      v2  962517     10       209        165             18     73260   \n",
       "4237      v1  669751     10       193        168             19     60984   \n",
       "4282      v1  596238     10       194        167             18     63293   \n",
       "4351      v1  589353     10       181        161             25     62629   \n",
       "\n",
       "      get_food  get_stuff  buy_gold  buy_food  buy_stuff  get_bonus  \\\n",
       "1        28704      25584      1145       861        512         76   \n",
       "6        27040      25857      1311      1352        517         83   \n",
       "54       31620      27280       312       632        164         25   \n",
       "69       34254      31659       449       685        222         29   \n",
       "81       33582      31842       209       336        159         21   \n",
       "...        ...        ...       ...       ...        ...        ...   \n",
       "4207     31374      27888      1248      1569        558         68   \n",
       "4232     32505      29040       293       650        261         30   \n",
       "4237     31752      30240      1830      1270        605         76   \n",
       "4282     33066      26553      1899       992        797         70   \n",
       "4351     31234      26082      1879       937        522         66   \n",
       "\n",
       "      buy_bonus  quest_complete  buy_energy  buy_charge  buy_amulet  \\\n",
       "1             9              16           4          12           6   \n",
       "6            14              22          12           8           4   \n",
       "54           48              28          11          11           4   \n",
       "69           52              24          11          13           6   \n",
       "81           61              28          10          10           4   \n",
       "...         ...             ...         ...         ...         ...   \n",
       "4207         13              25           6          11           7   \n",
       "4232         48              23          11          14           2   \n",
       "4237         15              18           4          12           8   \n",
       "4282         13              18           7           9           8   \n",
       "4351         10              26           5          12           7   \n",
       "\n",
       "      collection_complete  \n",
       "1                       4  \n",
       "6                       4  \n",
       "54                      7  \n",
       "69                      8  \n",
       "81                      7  \n",
       "...                   ...  \n",
       "4207                    5  \n",
       "4232                    8  \n",
       "4237                    5  \n",
       "4282                    4  \n",
       "4351                    5  \n",
       "\n",
       "[128 rows x 19 columns]"
      ]
     },
     "execution_count": 132,
     "metadata": {},
     "output_type": "execute_result"
    }
   ],
   "source": [
    "#Посмотрим на объекты, которые превышают пороговое значение по первому признаку\n",
    "data[data['m3_finish'] > 154.5]"
   ]
  },
  {
   "cell_type": "markdown",
   "id": "7acbc101",
   "metadata": {},
   "source": [
    "<div class=\"alert alert-block alert-info\">\n",
    "Если посмотреть на объекты, которые превышают пороговое значение по первому признаку, то видим, что у них в основном большие значения по всем показателям. Удалять и обрабатывать эти аномалии никак не будем, это группа не очень активных игроков."
   ]
  },
  {
   "cell_type": "markdown",
   "id": "a6e62ccc",
   "metadata": {},
   "source": [
    "### Исследовательский анализ данных"
   ]
  },
  {
   "cell_type": "code",
   "execution_count": 133,
   "id": "6c2e2916",
   "metadata": {},
   "outputs": [],
   "source": [
    "#Разделим выборку на 2 в соответствие с версией\n",
    "data_v1 = data[data['version'] == 'v1']\n",
    "data_v2 = data[data['version'] == 'v2']"
   ]
  },
  {
   "cell_type": "code",
   "execution_count": 134,
   "id": "e928c80c",
   "metadata": {
    "scrolled": false
   },
   "outputs": [
    {
     "data": {
      "image/png": "[encoded data removed]",
      "text/plain": [
       "<Figure size 936x576 with 1 Axes>"
      ]
     },
     "metadata": {
      "needs_background": "light"
     },
     "output_type": "display_data"
    }
   ],
   "source": [
    "#Посмотрим на количество сессий, завершенных с определенным уровнем славы по двум версиям игры\n",
    "data\\\n",
    ".pivot_table('id', index='version', columns='level', aggfunc='count')\\\n",
    ".plot(kind='bar', figsize=(13,8), grid=True, title='Количество сессий, завершенных с определенным уровнем славы по двум версиям игры')\n",
    "plt.show()"
   ]
  },
  {
   "cell_type": "markdown",
   "id": "9db9b65d",
   "metadata": {},
   "source": [
    "<div class=\"alert alert-block alert-info\">\n",
    "Видно, что количество завершенных игр с более высоким уровнем ниже в игре версии 2 по сравнению с игрой версии 1 для соответствующих уровней."
   ]
  },
  {
   "cell_type": "code",
   "execution_count": 135,
   "id": "36a68260",
   "metadata": {},
   "outputs": [
    {
     "data": {
      "image/png": "[encoded data removed]",
      "text/plain": [
       "<Figure size 936x576 with 1 Axes>"
      ]
     },
     "metadata": {
      "needs_background": "light"
     },
     "output_type": "display_data"
    }
   ],
   "source": [
    "#Посмотрим на распределение показателя суммы покупки бонусов для двух версий игры\n",
    "ax = data_v1.plot(\n",
    "    kind='hist',\n",
    "    y='buy_bonus',\n",
    "    bins=20, \n",
    "    alpha=0.7, \n",
    "    label=\"Версия 1\", \n",
    "    title=\"Распределение показателя суммы покупки бонусов для двух версий игры\",\n",
    "    grid=True,\n",
    "    figsize=(13,8)\n",
    ")\n",
    "data_v2.plot(\n",
    "    kind=\"hist\",\n",
    "    y='buy_bonus',\n",
    "    bins=20,\n",
    "    ax=ax,\n",
    "    label='Версия 2',\n",
    "    alpha=0.7,\n",
    "    grid=True\n",
    ")\n",
    "plt.show()"
   ]
  },
  {
   "cell_type": "markdown",
   "id": "e336a47d",
   "metadata": {},
   "source": [
    "<div class=\"alert alert-block alert-info\">\n",
    "Видно, что распределения похожи для двух версий игры, но для 2 версии есть суммы покупки большего числа бонусов."
   ]
  },
  {
   "cell_type": "markdown",
   "id": "8204c57d",
   "metadata": {},
   "source": [
    "### Ответы на поставленные запросы"
   ]
  },
  {
   "cell_type": "markdown",
   "id": "5f84317b",
   "metadata": {},
   "source": [
    "- Какое влияние произведенное изменение оказало на игру в целом? Было ли оно положительным или отрицательным?"
   ]
  },
  {
   "cell_type": "markdown",
   "id": "aa8fc801",
   "metadata": {},
   "source": [
    "<div class=\"alert alert-block alert-info\">\n",
    "Посчитаем аналог такого показателя, как Daily sessions per day (Daily Sessions(количество сессий в день) / DAU. Мы не знаем за какой период у нас выгружены данные. \n",
    "Значит поделим количество сессий за представленный период на количество уникальных (активных) пользователей для каждой версии игры."
   ]
  },
  {
   "cell_type": "code",
   "execution_count": 136,
   "id": "18b3809a",
   "metadata": {},
   "outputs": [
    {
     "name": "stdout",
     "output_type": "stream",
     "text": [
      "Количество уникальных пользователейв в выборке с 1 версией игры: 300\n",
      "Количество уникальных пользователейв в выборке с 2 версией игры: 300\n"
     ]
    }
   ],
   "source": [
    "print(\"Количество уникальных пользователейв в выборке с 1 версией игры:\", len(data_v1['id'].unique()))\n",
    "print(\"Количество уникальных пользователейв в выборке с 2 версией игры:\", len(data_v2['id'].unique()))"
   ]
  },
  {
   "cell_type": "code",
   "execution_count": 137,
   "id": "25a7bf2e",
   "metadata": {},
   "outputs": [
    {
     "name": "stdout",
     "output_type": "stream",
     "text": [
      "Количество сессий на одного пользователя за период для версии 1: 7.5\n",
      "Количество сессий на одного пользователя за период для версии 2: 7.04\n"
     ]
    }
   ],
   "source": [
    "print(\"Количество сессий на одного пользователя за период для версии 1:\", round(len(data_v1) / len(data_v1['id'].unique()), 2) )\n",
    "print(\"Количество сессий на одного пользователя за период для версии 2:\", round(len(data_v2) / len(data_v2['id'].unique()), 2) )"
   ]
  },
  {
   "cell_type": "markdown",
   "id": "ec04c209",
   "metadata": {},
   "source": [
    "<div class=\"alert alert-block alert-info\">\n",
    "Видно, что количество сессий на одного пользователя за представленный период для второй версии уменьшилось."
   ]
  },
  {
   "cell_type": "markdown",
   "id": "6c8e7871",
   "metadata": {},
   "source": [
    "<div class=\"alert alert-block alert-info\">\n",
    "Для оценки влияния изменения посчитаем конверсию для каждой версии игры имеющихся выборок  по пользователям таких целевых действий: \n",
    "    \n",
    "- Buy gold – сумма купленного за премиум-валюту золота\n",
    "- Buy food – сумма купленной за премиум-валюту еды\n",
    "- Buy stuff – сумма купленных за премиум-валюту материалов\n",
    "- Buy bonus – количество купленных за премиум-валюту бонусов\n",
    "- Buy energy – количество купленных за премиум-валюту энергетиков\n",
    "- Buy charge – количество купленных за премиум-валюту зарядок\n",
    "- Buy amulet – количество купленных за премиум-валюту амулетов (свитков с заклинаниями)"
   ]
  },
  {
   "cell_type": "code",
   "execution_count": 138,
   "id": "6dc7c12e",
   "metadata": {},
   "outputs": [],
   "source": [
    "def conversion(data, feature):\n",
    "    group = pd.DataFrame(data.groupby('id')[feature].sum())\n",
    "    return round(len(group[group[feature] != 0]) / len(group) * 100, 2)"
   ]
  },
  {
   "cell_type": "code",
   "execution_count": 139,
   "id": "b75997b5",
   "metadata": {},
   "outputs": [
    {
     "name": "stdout",
     "output_type": "stream",
     "text": [
      "Конверсия показателей в двух версиях игры для каждого пользователя:\n"
     ]
    },
    {
     "data": {
      "text/html": [
       "<div>\n",
       "<style scoped>\n",
       "    .dataframe tbody tr th:only-of-type {\n",
       "        vertical-align: middle;\n",
       "    }\n",
       "\n",
       "    .dataframe tbody tr th {\n",
       "        vertical-align: top;\n",
       "    }\n",
       "\n",
       "    .dataframe thead th {\n",
       "        text-align: right;\n",
       "    }\n",
       "</style>\n",
       "<table border=\"1\" class=\"dataframe\">\n",
       "  <thead>\n",
       "    <tr style=\"text-align: right;\">\n",
       "      <th></th>\n",
       "      <th>Версия 1, %</th>\n",
       "      <th>Версия 2, %</th>\n",
       "    </tr>\n",
       "  </thead>\n",
       "  <tbody>\n",
       "    <tr>\n",
       "      <th>Buy gold</th>\n",
       "      <td>95.00</td>\n",
       "      <td>92.33</td>\n",
       "    </tr>\n",
       "    <tr>\n",
       "      <th>Buy food</th>\n",
       "      <td>95.00</td>\n",
       "      <td>92.33</td>\n",
       "    </tr>\n",
       "    <tr>\n",
       "      <th>Buy stuff</th>\n",
       "      <td>85.67</td>\n",
       "      <td>83.67</td>\n",
       "    </tr>\n",
       "    <tr>\n",
       "      <th>Buy bonus</th>\n",
       "      <td>98.00</td>\n",
       "      <td>97.33</td>\n",
       "    </tr>\n",
       "    <tr>\n",
       "      <th>Buy energy</th>\n",
       "      <td>93.67</td>\n",
       "      <td>91.33</td>\n",
       "    </tr>\n",
       "    <tr>\n",
       "      <th>Buy charge</th>\n",
       "      <td>91.00</td>\n",
       "      <td>89.00</td>\n",
       "    </tr>\n",
       "    <tr>\n",
       "      <th>Buy amulet</th>\n",
       "      <td>91.67</td>\n",
       "      <td>89.33</td>\n",
       "    </tr>\n",
       "  </tbody>\n",
       "</table>\n",
       "</div>"
      ],
      "text/plain": [
       "            Версия 1, %  Версия 2, %\n",
       "Buy gold          95.00        92.33\n",
       "Buy food          95.00        92.33\n",
       "Buy stuff         85.67        83.67\n",
       "Buy bonus         98.00        97.33\n",
       "Buy energy        93.67        91.33\n",
       "Buy charge        91.00        89.00\n",
       "Buy amulet        91.67        89.33"
      ]
     },
     "metadata": {},
     "output_type": "display_data"
    }
   ],
   "source": [
    "print(\"Конверсия показателей в двух версиях игры для каждого пользователя:\")\n",
    "conversions = pd.DataFrame({'Версия 1, %': [conversion(data_v1, 'buy_gold'), conversion(data_v1, 'buy_food'), conversion(data_v1, 'buy_stuff'), conversion(data_v1, 'buy_bonus'), conversion(data_v1, 'buy_energy'), conversion(data_v1, 'buy_charge'), conversion(data_v1, 'buy_amulet')],\n",
    "             'Версия 2, %': [conversion(data_v2, 'buy_gold'), conversion(data_v2, 'buy_food'), conversion(data_v2, 'buy_stuff'), conversion(data_v2, 'buy_bonus'), conversion(data_v2, 'buy_energy'), conversion(data_v2, 'buy_charge'), conversion(data_v2, 'buy_amulet')]})\n",
    "conversions.index = ['Buy gold', 'Buy food', 'Buy stuff', 'Buy bonus', 'Buy energy', 'Buy charge', 'Buy amulet']\n",
    "display(conversions)"
   ]
  },
  {
   "cell_type": "markdown",
   "id": "8f9c7009",
   "metadata": {},
   "source": [
    "<div class=\"alert alert-block alert-info\">\n",
    "Сгруппировали по пользователям каждый из перечисленных показателей и посчитали конверсию целевого действия для имеющихся выборок. Видим, что по всем перечисленным признакам процент конверсии упал во второй версии, то есть процент пользователей, покупающих за премиум-валюту уменьшился. Конверсию оценивают на этапе стабилизации аудитории при первых клиентов. Когда целью является стимулирование продаж оценивают другие метрики, например: sales funnel, average revenue per user, churn rate, incremental sales и другие. "
   ]
  },
  {
   "cell_type": "markdown",
   "id": "f1be0dd5",
   "metadata": {},
   "source": [
    "<div class=\"alert alert-block alert-info\">\n",
    "У нас нет данных о стоимости покупок, поэтому оценим, увеличилась ли средняя сумма покупки бонусов на одного пользователя и   изменилась ли средняя сумма полученных бонусов на одного пользователя для этого проверим 2 гипотезы."
   ]
  },
  {
   "cell_type": "code",
   "execution_count": 140,
   "id": "ecc14563",
   "metadata": {},
   "outputs": [],
   "source": [
    "#Напишем функцию для проверки гипотез равенства двух совокупностей\n",
    "def hypothesis(array1, array2):\n",
    "    alpha = 0.05\n",
    "    results = st.ttest_ind(\n",
    "        array1,\n",
    "        array2\n",
    "    )\n",
    "    print('p-значение:', results.pvalue)\n",
    "    print('Значение статистики (отклонения):', results.statistic)\n",
    "    if results.pvalue < alpha:\n",
    "        print('Нулевую гипотезу отклоняем')\n",
    "    else:\n",
    "        print('Принимаем нулевую гипотезу о равенстве средних двух выборок')"
   ]
  },
  {
   "cell_type": "markdown",
   "id": "8988e2d6",
   "metadata": {},
   "source": [
    "#### Проверка гипотезы о равенстве средних суммы купленных бонусов для каждого пользователя в двух выборках"
   ]
  },
  {
   "cell_type": "markdown",
   "id": "d2ffc325",
   "metadata": {},
   "source": [
    "<div class=\"alert alert-block alert-info\">\n",
    "    \n",
    "**Проверить гипотезу:**\n",
    "Средние суммы купленных бонусов пользователя игр для версии 1 и 2 равны.\n",
    "  \n",
    "    \n",
    "**H0:** Средние суммы купленных бонусов пользователя игр для версии 1 и 2 равны.\n",
    "    \n",
    "    \n",
    "**H1:** Средние суммы купленных бонусов пользователя игр для версии 1 и 2 различны."
   ]
  },
  {
   "cell_type": "code",
   "execution_count": 141,
   "id": "6032bd59",
   "metadata": {},
   "outputs": [],
   "source": [
    "buy_bonus_v1 = data_v1.groupby('id')['buy_bonus'].sum()\n",
    "buy_bonus_v2 = data_v2.groupby('id')['buy_bonus'].sum()"
   ]
  },
  {
   "cell_type": "code",
   "execution_count": 142,
   "id": "922e43bc",
   "metadata": {},
   "outputs": [
    {
     "name": "stdout",
     "output_type": "stream",
     "text": [
      "p-значение: 3.081051642883544e-22\n",
      "Значение статистики (отклонения): -10.096372918211134\n",
      "Нулевую гипотезу отклоняем\n"
     ]
    }
   ],
   "source": [
    "hypothesis(buy_bonus_v1, buy_bonus_v2)"
   ]
  },
  {
   "cell_type": "code",
   "execution_count": 143,
   "id": "1ebc5f92",
   "metadata": {},
   "outputs": [
    {
     "name": "stdout",
     "output_type": "stream",
     "text": [
      "Средняя сумма купленных бонусов одним пользователем игры версии 1:  74.2\n",
      "Средняя сумма купленных бонусов одним пользователем игры версии 2:  133.05\n"
     ]
    }
   ],
   "source": [
    "print(\"Средняя сумма купленных бонусов одним пользователем игры версии 1: \", round(data_v1.groupby('id')['buy_bonus'].sum().mean(), 1))\n",
    "print(\"Средняя сумма купленных бонусов одним пользователем игры версии 2: \", data_v2.groupby('id')['buy_bonus'].sum().mean())"
   ]
  },
  {
   "cell_type": "markdown",
   "id": "62036148",
   "metadata": {},
   "source": [
    "<div class=\"alert alert-block alert-info\">\n",
    "Таким образом, гипотеза подтвердила, что средняя сумма купленных бонусов одним пользователем увеличилась."
   ]
  },
  {
   "cell_type": "markdown",
   "id": "e72a0348",
   "metadata": {},
   "source": [
    "#### Проверка гипотезы о равенстве средних суммы полученных бонусов для каждого пользователя в двух выборках"
   ]
  },
  {
   "cell_type": "markdown",
   "id": "eb590879",
   "metadata": {},
   "source": [
    "<div class=\"alert alert-block alert-info\">\n",
    "    \n",
    "**Проверить гипотезу:**\n",
    "Средние суммы полученных бонусов пользователя игр для версии 1 и 2 равны.\n",
    "  \n",
    "    \n",
    "**H0:** Средние суммы полученных бонусов пользователя игр для версии 1 и 2 равны.\n",
    "    \n",
    "    \n",
    "**H1:** Средние суммы полученных бонусов пользователя игр для версии 1 и 2 различны."
   ]
  },
  {
   "cell_type": "code",
   "execution_count": 144,
   "id": "f2a18315",
   "metadata": {},
   "outputs": [],
   "source": [
    "get_bonus_v1 = data_v1.groupby('id')['get_bonus'].sum()\n",
    "get_bonus_v2 = data_v2.groupby('id')['get_bonus'].sum()"
   ]
  },
  {
   "cell_type": "code",
   "execution_count": 145,
   "id": "86372353",
   "metadata": {},
   "outputs": [
    {
     "name": "stdout",
     "output_type": "stream",
     "text": [
      "p-значение: 9.394863964488317e-51\n",
      "Значение статистики (отклонения): 16.51443891508714\n",
      "Нулевую гипотезу отклоняем\n"
     ]
    }
   ],
   "source": [
    "hypothesis(get_bonus_v1, get_bonus_v2)"
   ]
  },
  {
   "cell_type": "code",
   "execution_count": 146,
   "id": "afb064ab",
   "metadata": {},
   "outputs": [
    {
     "name": "stdout",
     "output_type": "stream",
     "text": [
      "Среднее суммы полученных бонусов одним пользователем игр для версии 1: 156.1\n",
      "Среднее суммы полученных бонусов одним пользователем игр для версии 2: 45.76\n"
     ]
    }
   ],
   "source": [
    "print(\"Среднее суммы полученных бонусов одним пользователем игр для версии 1:\", round(data_v1.groupby('id')['get_bonus'].sum().mean(), 2))\n",
    "print(\"Среднее суммы полученных бонусов одним пользователем игр для версии 2:\", round(data_v2.groupby('id')['get_bonus'].sum().mean(), 2))"
   ]
  },
  {
   "cell_type": "markdown",
   "id": "8a53ff56",
   "metadata": {},
   "source": [
    "<div class=\"alert alert-block alert-info\">\n",
    "Таким образом, гипотеза подтвердила, что средняя сумма полученных бонусов одним пользователем уменьшилась."
   ]
  },
  {
   "cell_type": "markdown",
   "id": "03a05cb4",
   "metadata": {},
   "source": [
    "<div class=\"alert alert-block alert-info\">\n",
    "Таким образом, количество сессий на одного пользователя за представленный период для второй версии уменьшилось.    \n",
    "Посчитав конверсию (процент пользователей совершивших покупку) по показателям Buy gold, Buy food, Buy bonus, Buy energy, Buy charge, Buy amulet для двух выборок игры версии 1 и версии 2, выявили, что конверсия для всех показателей упала. То есть количество пользователей, покупающих за премиум-валюту уменьшилось, но конверсия оценивается на этапе стабилизации аудитории. Я так понимаю целью изменения является стимулирование продаж в данной задаче. Поэтому проверили 2 гипотезы: \n",
    "\n",
    "- на равенство средних сумм купленных бонусов пользователей игр для первой и второй версии.    \n",
    "- на равенство средних сумм полученных бонусов пользователей игр для первой и второй версии.\n",
    "    \n",
    "При проверке всех гипотез, выявили что средние не равны.\n",
    "Среднее уменьшилось для второй игры по второму показателю, но по первому показателю среднее увеличилось. То есть скорость производства бонусов в тотемах уменьшилась и пользователи стали активнее покупать бонусы.\n",
    " \n",
    "Можно сделать вывод, что изменение скорости производства бонусов в тотемах в целом **положительно** отразилось на игре, потому что увеличилось среднее суммы покупки бонусов одним пользователем. Что по идее и являлось целью введения изменения в игру."
   ]
  },
  {
   "cell_type": "markdown",
   "id": "80cc9ea2",
   "metadata": {},
   "source": [
    "- На какие игровые показатели изменение скорости производства бонусов в тотемах оказало наибольшее влияние и почему? Сформулируйте и обоснуйте гипотезы, которые бы освещали возможные причины такого влияния. Рассматривать все взаимосвязи необязательно – только те, которые вы посчитаете наиболее значимыми."
   ]
  },
  {
   "cell_type": "markdown",
   "id": "fbb67db4",
   "metadata": {},
   "source": [
    "<div class=\"alert alert-block alert-info\">\n",
    " \n",
    "Посчитаем в процентном соотношении, как поменялись средние значения сумм пользователей по всем признакам  для первой и второй версии."
   ]
  },
  {
   "cell_type": "code",
   "execution_count": 147,
   "id": "706e1261",
   "metadata": {},
   "outputs": [],
   "source": [
    "def change(feature):\n",
    "    data_1 = pd.DataFrame(data_v1.groupby('id')[feature].sum())\n",
    "    data_2 = pd.DataFrame(data_v2.groupby('id')[feature].sum())\n",
    "    return round((data_2[feature].mean() - data_1[feature].mean()) / data_1[feature].mean() * 100, 2)    "
   ]
  },
  {
   "cell_type": "code",
   "execution_count": 148,
   "id": "d7a07b95",
   "metadata": {},
   "outputs": [],
   "source": [
    "changes = {}\n",
    "for column in data.drop(['version', 'id'], axis=1).columns:\n",
    "    changes[column] = [change(column)]"
   ]
  },
  {
   "cell_type": "code",
   "execution_count": 149,
   "id": "f146f4d4",
   "metadata": {},
   "outputs": [
    {
     "data": {
      "image/png": "[encoded data removed]",
      "text/plain": [
       "<Figure size 864x576 with 1 Axes>"
      ]
     },
     "metadata": {
      "needs_background": "light"
     },
     "output_type": "display_data"
    }
   ],
   "source": [
    "pd.DataFrame(changes).T.plot(\n",
    "    kind='bar', \n",
    "    figsize=(12,8), \n",
    "    color='green', \n",
    "    grid=True, \n",
    "    legend=False, \n",
    "    title=\"Изменение среднего показателей в первой и второй версиях, %\")\n",
    "plt.show()"
   ]
  },
  {
   "cell_type": "markdown",
   "id": "f3862135",
   "metadata": {},
   "source": [
    "<div class=\"alert alert-block alert-info\">\n",
    "По данному графику видно, что изменение скорости производства бонусов наибольшее влияние оказало на такие игровые показатели: buy_gold, buy_food, buy_staff, get_bonus, buy_bonus, buy_energy.\n",
    "    \n",
    "    \n",
    "- Гипотеза: средняя сумма покупки бонусов в версии 2 увеличилась. Причиной увеличения суммы покупки по показателю buy_bonus является то, что скорость производства бонусов в тотемах уменьшилась и пользователи стали больше покупать бонусы за премиум-валюту, которые призваны облегчить игроку прогресс по игре.\n",
    "    \n",
    "- Гипотеза: средняя сумма покупки ресурсов (золота, еды, материалов) уменьшилась. Причиной уменьшения процента суммы покупки по показателям buy_gold, buy_food, buy_staff стало то, что пользователи стали больше тратить на покупку бонусов и в результате быстрее двигаться по игре, получать золото, еду, материалы в процессе прохождения уровней Match-3, не покупая эти материалы.\n",
    "    \n",
    "- Гипотеза: средняя сумма полученных бонусов уменьшилась. Причиной стало изменение скорости производства бонусов в тотемах. \n",
    "\n",
    "    \n"
   ]
  },
  {
   "cell_type": "markdown",
   "id": "5e1ba4e1",
   "metadata": {},
   "source": [
    "- Есть ли на рассматриваемом игровом промежутке проблемы, требующие решения разработчиков? Что на Ваш взгляд можно было бы и изменить и как?"
   ]
  },
  {
   "cell_type": "markdown",
   "id": "7cbf2b4b",
   "metadata": {},
   "source": [
    "<div class=\"alert alert-block alert-info\">\n",
    "На мой взгляд незначительное изменение скорости производства бонусов в обратную сторону позволило бы увеличить конверсию по таким целевым показателям, как: Buy gold, Buy food, Buy bonus, Buy energy, Buy charge, Buy amulet и также увеличть среднюю сумму покупок по данным показателям, за счет этого пользователи принесли бы больше выручки. Также это изменение возвоило бы увеличить количество сессий в день на одного пользователя и другие метрики."
   ]
  },
  {
   "cell_type": "markdown",
   "id": "5150e810",
   "metadata": {},
   "source": [
    "- Какие еще данные помогли бы Вам лучше разобраться в игре, ее проблемах, просто стоят внимания с Вашей точки зрения? Почему?"
   ]
  },
  {
   "cell_type": "markdown",
   "id": "d6db2836",
   "metadata": {},
   "source": [
    "<div class=\"alert alert-block alert-info\">С моей точки зрения лучше помог бы разбраться в игре анализ и расчет таких показателей в двух версиях игры, как:\n",
    "   \n",
    "- Retention rate, показатель возврата клиентов. Для этого необходимо было бы посмотреть на отношение количества пользователей за один промежуток времени к количеству пользователей другого промежутка времени (то есть количество пользователей одной версии игры и другой). В нашем случае выгружены данные за одинаковый промеуток времени и по одинаковому количеству игроков в группе.\n",
    "\n",
    "- Churn rate, можно посчитать на основке retention rate.\n",
    "\n",
    "- DAU, ежедневное количество активных пользователей, было бы хорошо сравнить, насколько активнее или наоборот пользуются новой версией игры.\n",
    "\n",
    "- MAU, ежемесячное количество активныхх пользователей, аналогично ежедневному, только активность за месяц\n",
    "\n",
    "- ARPU, Средняя выручка от пользователя. Для этого необходимо иметь данные о выручке от пользования приложением\n",
    "\n",
    "- ARPPU, Средняя выручка от платящего пользователя, для расчета этого показателя необходимо иметь данные о выручке от покупок в игре. \n",
    "\n"
   ]
  }
 ],
 "metadata": {
  "kernelspec": {
   "display_name": "Python 3 (ipykernel)",
   "language": "python",
   "name": "python3"
  },
  "language_info": {
   "codemirror_mode": {
    "name": "ipython",
    "version": 3
   },
   "file_extension": ".py",
   "mimetype": "text/x-python",
   "name": "python",
   "nbconvert_exporter": "python",
   "pygments_lexer": "ipython3",
   "version": "3.9.7"
  }
 },
 "nbformat": 4,
 "nbformat_minor": 5
}
